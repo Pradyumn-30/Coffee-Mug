{
 "cells": [
  {
   "cell_type": "code",
   "execution_count": 2,
   "metadata": {},
   "outputs": [
    {
     "name": "stdout",
     "output_type": "stream",
     "text": [
      "DOOR 1\n",
      "DOOR 2\n",
      "DOOR 3\n",
      "Choose a door\n",
      "1\n",
      "You chose door No. 1\n",
      "Door No. 2 is opened and it has a goat\n",
      "Make your choice\n",
      "1.Stick to my choice\n",
      "2.Switch my choice\n",
      "2\n",
      "Door No. 3 is opened and it has car\n",
      "CONGRATULATIONS YOU WON\n",
      "Answer Key\n",
      " {3: 'car', 2: 'goat', 1: 'goat'}\n"
     ]
    }
   ],
   "source": [
    "def Monty_Hall():\n",
    "    import random\n",
    "    c=True\n",
    "    item=['car','goat','goat']\n",
    "    list=[]\n",
    "    flag=0\n",
    "    while(c):  #loop for randomising door number\n",
    "        r=random.randint(1,3)  #selecting a random number in range 1 to 3\n",
    "        if r not in list: \n",
    "            list.append(r)  #storing that random number in the list\n",
    "        if len(list)==3:\n",
    "            c=False\n",
    "    list2=[]\n",
    "    c=True\n",
    "    while(c):  #loop for randomising items\n",
    "        r=random.randint(0,2)  #selecting a random number in range 0 to 2\n",
    "        if r not in list2: \n",
    "            list2.append(r)  #storing that random number in the list2\n",
    "        if len(list2)==3:\n",
    "            c=False\n",
    "    dic={list[0]:item[list2[0]],list[1]:item[list2[1]],list[2]:item[list2[2]]}\n",
    "    #assigning the randomly selected item to the randomly selected door(double randomisation)\n",
    "    #at this point even the coder doesnt know which door is assigned to which item\n",
    "    print('DOOR 1\\nDOOR 2\\nDOOR 3')\n",
    "    print('Choose a door')\n",
    "    door_chosen=int(input())\n",
    "    if(door_chosen>3 or door_chosen<1):\n",
    "        print('wrong option')\n",
    "        flag=1\n",
    "    if flag==0:\n",
    "        print('You chose door No.',door_chosen)\n",
    "        for i in range(1,4):\n",
    "            if(dic[i]=='goat' and i!=door_chosen):\n",
    "                door_open=i\n",
    "                break\n",
    "        print('Door No.',door_open,'is opened and it has a',dic[door_open])\n",
    "        print('Make your choice\\n1.Stick to my choice\\n2.Switch my choice')\n",
    "        final_choice=int(input())\n",
    "        if(final_choice==1):\n",
    "            print('Door No.',door_chosen,'is opened and it has',dic[door_chosen])\n",
    "            if(dic[door_chosen]=='car'):\n",
    "                print('CONGRATULATIONS YOU WON')\n",
    "            else:\n",
    "                print('YOU LOST')\n",
    "        elif(final_choice==2):\n",
    "            for i in list:\n",
    "                if(i!=door_chosen and i!=door_open):\n",
    "                    switch_door=i\n",
    "                    break\n",
    "            print('Door No.',switch_door,'is opened and it has',dic[switch_door])\n",
    "            if(dic[switch_door]=='car'):\n",
    "                print('CONGRATULATIONS YOU WON')\n",
    "            else:\n",
    "                print('YOU LOST')\n",
    "        else:\n",
    "            print('Wrong choice')\n",
    "            print()\n",
    "        print('Answer Key\\n',dic) \n",
    "\n",
    "Monty_Hall()"
   ]
  }
 ],
 "metadata": {
  "kernelspec": {
   "display_name": "Python 3",
   "language": "python",
   "name": "python3"
  },
  "language_info": {
   "codemirror_mode": {
    "name": "ipython",
    "version": 3
   },
   "file_extension": ".py",
   "mimetype": "text/x-python",
   "name": "python",
   "nbconvert_exporter": "python",
   "pygments_lexer": "ipython3",
   "version": "3.7.3"
  }
 },
 "nbformat": 4,
 "nbformat_minor": 2
}
